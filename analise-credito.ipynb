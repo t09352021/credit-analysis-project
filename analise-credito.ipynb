{
 "cells": [
  {
   "cell_type": "code",
   "execution_count": 105,
   "metadata": {},
   "outputs": [],
   "source": [
    "# Importando bibliotecas necessárias\n",
    "import pandas as pd\n",
    "import numpy as np\n",
    "import matplotlib.pyplot as plt\n",
    "import seaborn as sns\n",
    "from sklearn.model_selection import train_test_split\n",
    "from sklearn.ensemble import RandomForestClassifier\n",
    "from sklearn.metrics import classification_report, confusion_matrix"
   ]
  },
  {
   "cell_type": "markdown",
   "metadata": {},
   "source": [
    "Idade = age\n",
    "\n",
    "Renda = income\n",
    "\n",
    "Valor do emprestimo = loan_amount\n",
    "\n",
    "\n",
    "Score de crédito = credit score\n",
    "\n",
    "\n",
    "default (cliente inadiplente (1) ou não(0))]"
   ]
  },
  {
   "cell_type": "code",
   "execution_count": 106,
   "metadata": {},
   "outputs": [],
   "source": [
    "df = pd.read_csv(r'dataset\\credit-data.csv', index_col=False)"
   ]
  },
  {
   "cell_type": "code",
   "execution_count": 107,
   "metadata": {},
   "outputs": [
    {
     "data": {
      "text/html": [
       "<div>\n",
       "<style scoped>\n",
       "    .dataframe tbody tr th:only-of-type {\n",
       "        vertical-align: middle;\n",
       "    }\n",
       "\n",
       "    .dataframe tbody tr th {\n",
       "        vertical-align: top;\n",
       "    }\n",
       "\n",
       "    .dataframe thead th {\n",
       "        text-align: right;\n",
       "    }\n",
       "</style>\n",
       "<table border=\"1\" class=\"dataframe\">\n",
       "  <thead>\n",
       "    <tr style=\"text-align: right;\">\n",
       "      <th></th>\n",
       "      <th>age</th>\n",
       "      <th>income</th>\n",
       "      <th>loan_amount</th>\n",
       "      <th>credit_score</th>\n",
       "      <th>employment_status</th>\n",
       "      <th>default</th>\n",
       "    </tr>\n",
       "  </thead>\n",
       "  <tbody>\n",
       "    <tr>\n",
       "      <th>0</th>\n",
       "      <td>56</td>\n",
       "      <td>5343</td>\n",
       "      <td>8941</td>\n",
       "      <td>818</td>\n",
       "      <td>Unemployed</td>\n",
       "      <td>0</td>\n",
       "    </tr>\n",
       "    <tr>\n",
       "      <th>1</th>\n",
       "      <td>69</td>\n",
       "      <td>7308</td>\n",
       "      <td>6569</td>\n",
       "      <td>436</td>\n",
       "      <td>Unemployed</td>\n",
       "      <td>1</td>\n",
       "    </tr>\n",
       "    <tr>\n",
       "      <th>2</th>\n",
       "      <td>46</td>\n",
       "      <td>6070</td>\n",
       "      <td>5300</td>\n",
       "      <td>797</td>\n",
       "      <td>Self-Employed</td>\n",
       "      <td>0</td>\n",
       "    </tr>\n",
       "    <tr>\n",
       "      <th>3</th>\n",
       "      <td>32</td>\n",
       "      <td>6799</td>\n",
       "      <td>7269</td>\n",
       "      <td>776</td>\n",
       "      <td>Self-Employed</td>\n",
       "      <td>0</td>\n",
       "    </tr>\n",
       "    <tr>\n",
       "      <th>4</th>\n",
       "      <td>60</td>\n",
       "      <td>3470</td>\n",
       "      <td>4818</td>\n",
       "      <td>522</td>\n",
       "      <td>Unemployed</td>\n",
       "      <td>0</td>\n",
       "    </tr>\n",
       "  </tbody>\n",
       "</table>\n",
       "</div>"
      ],
      "text/plain": [
       "   age  income  loan_amount  credit_score employment_status  default\n",
       "0   56    5343         8941           818        Unemployed        0\n",
       "1   69    7308         6569           436        Unemployed        1\n",
       "2   46    6070         5300           797     Self-Employed        0\n",
       "3   32    6799         7269           776     Self-Employed        0\n",
       "4   60    3470         4818           522        Unemployed        0"
      ]
     },
     "execution_count": 107,
     "metadata": {},
     "output_type": "execute_result"
    }
   ],
   "source": [
    "df.head()"
   ]
  },
  {
   "cell_type": "markdown",
   "metadata": {},
   "source": [
    "Análise Exploratória de Dados (EDA)"
   ]
  },
  {
   "cell_type": "code",
   "execution_count": 108,
   "metadata": {},
   "outputs": [
    {
     "data": {
      "text/html": [
       "<div>\n",
       "<style scoped>\n",
       "    .dataframe tbody tr th:only-of-type {\n",
       "        vertical-align: middle;\n",
       "    }\n",
       "\n",
       "    .dataframe tbody tr th {\n",
       "        vertical-align: top;\n",
       "    }\n",
       "\n",
       "    .dataframe thead th {\n",
       "        text-align: right;\n",
       "    }\n",
       "</style>\n",
       "<table border=\"1\" class=\"dataframe\">\n",
       "  <thead>\n",
       "    <tr style=\"text-align: right;\">\n",
       "      <th></th>\n",
       "      <th>age</th>\n",
       "      <th>income</th>\n",
       "      <th>loan_amount</th>\n",
       "      <th>credit_score</th>\n",
       "      <th>default</th>\n",
       "    </tr>\n",
       "  </thead>\n",
       "  <tbody>\n",
       "    <tr>\n",
       "      <th>count</th>\n",
       "      <td>500.000000</td>\n",
       "      <td>500.00000</td>\n",
       "      <td>500.0000</td>\n",
       "      <td>500.00000</td>\n",
       "      <td>500.000000</td>\n",
       "    </tr>\n",
       "    <tr>\n",
       "      <th>mean</th>\n",
       "      <td>44.220000</td>\n",
       "      <td>6043.76000</td>\n",
       "      <td>5566.7720</td>\n",
       "      <td>572.38800</td>\n",
       "      <td>0.192000</td>\n",
       "    </tr>\n",
       "    <tr>\n",
       "      <th>std</th>\n",
       "      <td>15.036082</td>\n",
       "      <td>2213.10756</td>\n",
       "      <td>2551.6032</td>\n",
       "      <td>156.31051</td>\n",
       "      <td>0.394268</td>\n",
       "    </tr>\n",
       "    <tr>\n",
       "      <th>min</th>\n",
       "      <td>18.000000</td>\n",
       "      <td>2009.00000</td>\n",
       "      <td>1005.0000</td>\n",
       "      <td>300.00000</td>\n",
       "      <td>0.000000</td>\n",
       "    </tr>\n",
       "    <tr>\n",
       "      <th>25%</th>\n",
       "      <td>32.000000</td>\n",
       "      <td>4148.25000</td>\n",
       "      <td>3364.0000</td>\n",
       "      <td>442.00000</td>\n",
       "      <td>0.000000</td>\n",
       "    </tr>\n",
       "    <tr>\n",
       "      <th>50%</th>\n",
       "      <td>45.000000</td>\n",
       "      <td>6074.50000</td>\n",
       "      <td>5556.5000</td>\n",
       "      <td>584.00000</td>\n",
       "      <td>0.000000</td>\n",
       "    </tr>\n",
       "    <tr>\n",
       "      <th>75%</th>\n",
       "      <td>57.000000</td>\n",
       "      <td>7871.00000</td>\n",
       "      <td>7745.0000</td>\n",
       "      <td>694.00000</td>\n",
       "      <td>0.000000</td>\n",
       "    </tr>\n",
       "    <tr>\n",
       "      <th>max</th>\n",
       "      <td>69.000000</td>\n",
       "      <td>9939.00000</td>\n",
       "      <td>9996.0000</td>\n",
       "      <td>848.00000</td>\n",
       "      <td>1.000000</td>\n",
       "    </tr>\n",
       "  </tbody>\n",
       "</table>\n",
       "</div>"
      ],
      "text/plain": [
       "              age      income  loan_amount  credit_score     default\n",
       "count  500.000000   500.00000     500.0000     500.00000  500.000000\n",
       "mean    44.220000  6043.76000    5566.7720     572.38800    0.192000\n",
       "std     15.036082  2213.10756    2551.6032     156.31051    0.394268\n",
       "min     18.000000  2009.00000    1005.0000     300.00000    0.000000\n",
       "25%     32.000000  4148.25000    3364.0000     442.00000    0.000000\n",
       "50%     45.000000  6074.50000    5556.5000     584.00000    0.000000\n",
       "75%     57.000000  7871.00000    7745.0000     694.00000    0.000000\n",
       "max     69.000000  9939.00000    9996.0000     848.00000    1.000000"
      ]
     },
     "execution_count": 108,
     "metadata": {},
     "output_type": "execute_result"
    }
   ],
   "source": [
    "df.describe()"
   ]
  },
  {
   "cell_type": "code",
   "execution_count": 109,
   "metadata": {},
   "outputs": [
    {
     "name": "stdout",
     "output_type": "stream",
     "text": [
      "<class 'pandas.core.frame.DataFrame'>\n",
      "RangeIndex: 500 entries, 0 to 499\n",
      "Data columns (total 6 columns):\n",
      " #   Column             Non-Null Count  Dtype \n",
      "---  ------             --------------  ----- \n",
      " 0   age                500 non-null    int64 \n",
      " 1   income             500 non-null    int64 \n",
      " 2   loan_amount        500 non-null    int64 \n",
      " 3   credit_score       500 non-null    int64 \n",
      " 4   employment_status  500 non-null    object\n",
      " 5   default            500 non-null    int64 \n",
      "dtypes: int64(5), object(1)\n",
      "memory usage: 23.6+ KB\n"
     ]
    }
   ],
   "source": [
    "df.info()"
   ]
  },
  {
   "cell_type": "code",
   "execution_count": 110,
   "metadata": {},
   "outputs": [
    {
     "data": {
      "image/png": "[encoded data removed]",
      "text/plain": [
       "<Figure size 1000x600 with 1 Axes>"
      ]
     },
     "metadata": {},
     "output_type": "display_data"
    }
   ],
   "source": [
    "#Visualizando Distribuíção\n",
    "\n",
    "plt.figure(figsize=(10,6))\n",
    "sns.histplot(df['income'], kde=True, bins=30, color='blue')\n",
    "plt.title('Distribuição de Renda')\n",
    "plt.show()"
   ]
  },
  {
   "cell_type": "code",
   "execution_count": 111,
   "metadata": {},
   "outputs": [
    {
     "data": {
      "image/png": "[encoded data removed]",
      "text/plain": [
       "<Figure size 1000x600 with 1 Axes>"
      ]
     },
     "metadata": {},
     "output_type": "display_data"
    }
   ],
   "source": [
    "plt.figure(figsize=(10,6))\n",
    "sns.boxenplot(x='default', y='age', data=df)\n",
    "plt.title('Idade x Inadimplência')\n",
    "plt.show()\n"
   ]
  },
  {
   "cell_type": "markdown",
   "metadata": {},
   "source": [
    "Limpeza e Tratamento de Dados"
   ]
  },
  {
   "cell_type": "code",
   "execution_count": 112,
   "metadata": {},
   "outputs": [],
   "source": [
    "#Transformar variaveis categóricas em numéricas\n",
    "df['employment_status'] = df['employment_status'].map({\n",
    "    'Employed' : 0, 'Unemployed' : 1, 'Self-Employed': 2 \n",
    "})"
   ]
  },
  {
   "cell_type": "code",
   "execution_count": 113,
   "metadata": {},
   "outputs": [
    {
     "data": {
      "text/plain": [
       "age                   0\n",
       "income                0\n",
       "loan_amount           0\n",
       "credit_score          0\n",
       "employment_status     0\n",
       "default               0\n",
       "loan_income_ration    0\n",
       "dtype: int64"
      ]
     },
     "execution_count": 113,
     "metadata": {},
     "output_type": "execute_result"
    }
   ],
   "source": [
    "#Criando razão entre emprestimo/renda\n",
    "df['loan_income_ration'] = df['loan_amount']/df['income']\n",
    "\n",
    "#Verificando valores nulos\n",
    "df.isnull().sum()"
   ]
  },
  {
   "cell_type": "markdown",
   "metadata": {},
   "source": [
    "Divisão dos Dados em Treinamento e Teste"
   ]
  },
  {
   "cell_type": "code",
   "execution_count": 114,
   "metadata": {},
   "outputs": [],
   "source": [
    "#Separando variáveis indepedentes(x) e alvo(y)\n",
    "X = df.drop(['default'], axis=1)\n",
    "y = df['default']"
   ]
  },
  {
   "cell_type": "code",
   "execution_count": 115,
   "metadata": {},
   "outputs": [
    {
     "name": "stdout",
     "output_type": "stream",
     "text": [
      "Tamanho do conjunto de treinamento: (400, 6)\n",
      "Tamanho do conjunto de teste: (100, 6)\n"
     ]
    }
   ],
   "source": [
    "#Divisão dos dados\n",
    "X_train, X_test, y_train, y_test = train_test_split(X,y, test_size=0.2, random_state=42)\n",
    "\n",
    "print(\"Tamanho do conjunto de treinamento:\", X_train.shape)\n",
    "print(\"Tamanho do conjunto de teste:\", X_test.shape)"
   ]
  },
  {
   "cell_type": "markdown",
   "metadata": {},
   "source": [
    "Treinamento de um Modelo de Classificação"
   ]
  },
  {
   "cell_type": "code",
   "execution_count": 116,
   "metadata": {},
   "outputs": [
    {
     "name": "stdout",
     "output_type": "stream",
     "text": [
      "              precision    recall  f1-score   support\n",
      "\n",
      "           0       0.80      0.95      0.87        80\n",
      "           1       0.20      0.05      0.08        20\n",
      "\n",
      "    accuracy                           0.77       100\n",
      "   macro avg       0.50      0.50      0.47       100\n",
      "weighted avg       0.68      0.77      0.71       100\n",
      "\n"
     ]
    }
   ],
   "source": [
    "#Treinando o modelo\n",
    "model = RandomForestClassifier(random_state=42)\n",
    "model.fit(X_train, y_train)\n",
    "\n",
    "#Fazendo previsões\n",
    "y_pred = model.predict(X_test)\n",
    "\n",
    "#Avaliando o modelo\n",
    "print(classification_report(y_test, y_pred))"
   ]
  },
  {
   "cell_type": "markdown",
   "metadata": {},
   "source": [
    "Explicação:\n",
    "\n",
    "    Usamos um RandomForestClassifier para classificar clientes como inadimplentes ou não.\n",
    "    Avaliamos o desempenho com métricas como precisão, recall e F1-score."
   ]
  },
  {
   "cell_type": "code",
   "execution_count": 117,
   "metadata": {},
   "outputs": [
    {
     "data": {
      "image/png": "[encoded data removed]",
      "text/plain": [
       "<Figure size 1000x600 with 1 Axes>"
      ]
     },
     "metadata": {},
     "output_type": "display_data"
    }
   ],
   "source": [
    "#Importância das variáveis\n",
    "importances = pd.Series(model.feature_importances_, index=X.columns)\n",
    "importances.sort_values().plot(kind='barh', figsize=(10,6), title='Inadiplência das variáveis')\n",
    "plt.show()"
   ]
  },
  {
   "cell_type": "markdown",
   "metadata": {},
   "source": [
    "Explicação: As variáveis mais importantes mostram quais características têm maior impacto na decisão do modelo, ajudando a empresa a ajustar sua política."
   ]
  }
 ],
 "metadata": {
  "kernelspec": {
   "display_name": ".venv",
   "language": "python",
   "name": "python3"
  },
  "language_info": {
   "codemirror_mode": {
    "name": "ipython",
    "version": 3
   },
   "file_extension": ".py",
   "mimetype": "text/x-python",
   "name": "python",
   "nbconvert_exporter": "python",
   "pygments_lexer": "ipython3",
   "version": "3.13.1"
  }
 },
 "nbformat": 4,
 "nbformat_minor": 2
}
