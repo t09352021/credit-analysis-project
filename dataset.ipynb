{
 "cells": [
  {
   "cell_type": "code",
   "execution_count": 47,
   "metadata": {},
   "outputs": [],
   "source": [
    "import pandas as pd\n",
    "import numpy as np\n",
    "import matplotlib.pyplot as plt\n",
    "import seaborn as sns"
   ]
  },
  {
   "cell_type": "code",
   "execution_count": 48,
   "metadata": {},
   "outputs": [],
   "source": [
    "# Criando um dataset fictício\n",
    "np.random.seed(42)  # Para resultados reproduzíveis\n",
    "n_samples = 500"
   ]
  },
  {
   "cell_type": "code",
   "execution_count": 49,
   "metadata": {},
   "outputs": [],
   "source": [
    "data = pd.DataFrame({\n",
    "    'age': np.random.randint(18, 70, n_samples),\n",
    "    'income' : np.random.randint(2000, 10000, n_samples),\n",
    "    'loan_amount' : np.random.randint(1000,10000, n_samples),\n",
    "    'credit_score' : np.random.randint(300, 850, n_samples),\n",
    "    'employment_status' : np.random.choice(['Employed', 'Unemployed', 'Self-Employed'], n_samples),\n",
    "    'default' : np.random.choice([0,1], n_samples, p=[0.8, 0.2])\n",
    "})"
   ]
  },
  {
   "cell_type": "code",
   "execution_count": 50,
   "metadata": {},
   "outputs": [],
   "source": [
    "data.to_csv('credit-data.csv', index=False)"
   ]
  }
 ],
 "metadata": {
  "kernelspec": {
   "display_name": ".venv",
   "language": "python",
   "name": "python3"
  },
  "language_info": {
   "codemirror_mode": {
    "name": "ipython",
    "version": 3
   },
   "file_extension": ".py",
   "mimetype": "text/x-python",
   "name": "python",
   "nbconvert_exporter": "python",
   "pygments_lexer": "ipython3",
   "version": "3.13.1"
  }
 },
 "nbformat": 4,
 "nbformat_minor": 2
}
